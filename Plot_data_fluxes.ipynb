{
 "cells": [
  {
   "cell_type": "code",
   "execution_count": 1,
   "metadata": {},
   "outputs": [],
   "source": [
    "import numpy as np\n",
    "import pandas as pd\n",
    "# Set up matplotlib and use a nicer set of plot parameters\n",
    "import matplotlib\n",
    "#matplotlib.rc_file(\"../../templates/matplotlibrc\")\n",
    "import matplotlib.pyplot as plt\n",
    "matplotlib.rc('text', usetex=True)"
   ]
  },
  {
   "cell_type": "code",
   "execution_count": 2,
   "metadata": {},
   "outputs": [],
   "source": [
    "#read in the ams data on XXX\n",
    "#numerator='B'\n",
    "#denominator='O'\n",
    "#path='C:\\\\Users\\\\kreativekeith422\\\\Downloads\\\\AMS_Data\\\\Ratios\\\\'\n",
    "\n",
    "def read_in_data(numerator,denominator,path):\n",
    "    extension='ams_data.csv'\n",
    "    read_file=path+numerator+'_'+denominator+'_'+extension\n",
    "    ams=pd.read_csv(read_file)\n",
    "    print(ams.head())\n",
    "    return ams\n",
    "#join low and high together as one array to be used as x error bars\n",
    "#ams_energy=np.array((ams.EK_low.values,ams.Ek_high.values.T))\n",
    "#ams_energy=ams_energy*1000\n",
    "#ams_energy_mp=(ams_energy[0,:]+ams_energy[1,:])/2.0\n",
    "# now make the error bar sizes (symmetric about these midpoints)\n",
    "#ams_energy_binsize=(ams_energy[1,:]-ams_energy[0,:])/2.0\n",
    "#make the ratio an array\n",
    "#ams_ratio=np.array(ams._3He_over_4He.values * ams._factor_ratio.values)"
   ]
  },
  {
   "cell_type": "code",
   "execution_count": 3,
   "metadata": {},
   "outputs": [
    {
     "name": "stdout",
     "output_type": "stream",
     "text": [
      "   R_low  R_high  _B_O_ratio   _stat    _acc    _unf  _scale    _sys\n",
      "0   2.15    2.40      0.3071  0.0015  0.0143  0.0034  0.0003  0.0147\n",
      "1   2.40    2.67      0.3261  0.0015  0.0137  0.0030  0.0002  0.0140\n",
      "2   2.67    2.97      0.3322  0.0014  0.0126  0.0026  0.0001  0.0129\n",
      "3   2.97    3.29      0.3352  0.0013  0.0117  0.0022  0.0001  0.0119\n",
      "4   3.29    3.64      0.3400  0.0013  0.0109  0.0019  0.0000  0.0111\n"
     ]
    }
   ],
   "source": [
    "numerator='B'\n",
    "denominator='O'\n",
    "path='C:\\\\Users\\\\kreativekeith422\\\\Downloads\\\\AMS_Data\\\\Ratios\\\\'\n",
    "df=read_in_data(numerator,denominator,path)"
   ]
  },
  {
   "cell_type": "code",
   "execution_count": 4,
   "metadata": {},
   "outputs": [],
   "source": [
    "def make_energies_and_errors(df,num,den):\n",
    "    rigidity=np.array((df.R_low.values,df.R_high.values.T))\n",
    "    rigidity_mp=(rigidity[0,:]+rigidity[1,:])/2.0\n",
    "    rigidity_binsize=(rigidity[1,:]-rigidity[0,:])/2.0\n",
    "    ratio_name='_'+str(num)+'_'+str(den)+'_'+'ratio'\n",
    "    ratio=np.array(df[ratio_name].values)\n",
    "    ratio_sys_errors=np.array(df._sys.values)\n",
    "    ratio_stat_errors=np.array(df._stat.values)\n",
    "    ratio_errors=np.sqrt(np.square(ratio_stat_errors)+np.square(ratio_sys_errors))\n",
    "    return rigidity_mp,rigidity_binsize,ratio,ratio_errors"
   ]
  },
  {
   "cell_type": "code",
   "execution_count": 5,
   "metadata": {},
   "outputs": [],
   "source": [
    "rigidity,rigidity_binsize,ratio,ratio_errors=make_energies_and_errors(df,numerator,denominator)"
   ]
  },
  {
   "cell_type": "code",
   "execution_count": 7,
   "metadata": {},
   "outputs": [
    {
     "data": {
      "text/html": [
       "<div>\n",
       "<style scoped>\n",
       "    .dataframe tbody tr th:only-of-type {\n",
       "        vertical-align: middle;\n",
       "    }\n",
       "\n",
       "    .dataframe tbody tr th {\n",
       "        vertical-align: top;\n",
       "    }\n",
       "\n",
       "    .dataframe thead th {\n",
       "        text-align: right;\n",
       "    }\n",
       "</style>\n",
       "<table border=\"1\" class=\"dataframe\">\n",
       "  <thead>\n",
       "    <tr style=\"text-align: right;\">\n",
       "      <th></th>\n",
       "      <th>R_low</th>\n",
       "      <th>R_high</th>\n",
       "      <th>_B_O_ratio</th>\n",
       "      <th>_stat</th>\n",
       "      <th>_acc</th>\n",
       "      <th>_unf</th>\n",
       "      <th>_scale</th>\n",
       "      <th>_sys</th>\n",
       "    </tr>\n",
       "  </thead>\n",
       "  <tbody>\n",
       "    <tr>\n",
       "      <th>61</th>\n",
       "      <td>441.0</td>\n",
       "      <td>525.0</td>\n",
       "      <td>0.0735</td>\n",
       "      <td>0.0052</td>\n",
       "      <td>0.0028</td>\n",
       "      <td>0.0023</td>\n",
       "      <td>0.0005</td>\n",
       "      <td>0.0036</td>\n",
       "    </tr>\n",
       "    <tr>\n",
       "      <th>62</th>\n",
       "      <td>525.0</td>\n",
       "      <td>660.0</td>\n",
       "      <td>0.0771</td>\n",
       "      <td>0.0056</td>\n",
       "      <td>0.0029</td>\n",
       "      <td>0.0030</td>\n",
       "      <td>0.0005</td>\n",
       "      <td>0.0042</td>\n",
       "    </tr>\n",
       "    <tr>\n",
       "      <th>63</th>\n",
       "      <td>660.0</td>\n",
       "      <td>880.0</td>\n",
       "      <td>0.0645</td>\n",
       "      <td>0.0055</td>\n",
       "      <td>0.0026</td>\n",
       "      <td>0.0033</td>\n",
       "      <td>0.0005</td>\n",
       "      <td>0.0042</td>\n",
       "    </tr>\n",
       "    <tr>\n",
       "      <th>64</th>\n",
       "      <td>880.0</td>\n",
       "      <td>1300.0</td>\n",
       "      <td>0.0655</td>\n",
       "      <td>0.0061</td>\n",
       "      <td>0.0026</td>\n",
       "      <td>0.0048</td>\n",
       "      <td>0.0006</td>\n",
       "      <td>0.0055</td>\n",
       "    </tr>\n",
       "    <tr>\n",
       "      <th>65</th>\n",
       "      <td>1300.0</td>\n",
       "      <td>3300.0</td>\n",
       "      <td>0.0393</td>\n",
       "      <td>0.0110</td>\n",
       "      <td>0.0022</td>\n",
       "      <td>0.0028</td>\n",
       "      <td>0.0004</td>\n",
       "      <td>0.0036</td>\n",
       "    </tr>\n",
       "  </tbody>\n",
       "</table>\n",
       "</div>"
      ],
      "text/plain": [
       "     R_low  R_high  _B_O_ratio   _stat    _acc    _unf  _scale    _sys\n",
       "61   441.0   525.0      0.0735  0.0052  0.0028  0.0023  0.0005  0.0036\n",
       "62   525.0   660.0      0.0771  0.0056  0.0029  0.0030  0.0005  0.0042\n",
       "63   660.0   880.0      0.0645  0.0055  0.0026  0.0033  0.0005  0.0042\n",
       "64   880.0  1300.0      0.0655  0.0061  0.0026  0.0048  0.0006  0.0055\n",
       "65  1300.0  3300.0      0.0393  0.0110  0.0022  0.0028  0.0004  0.0036"
      ]
     },
     "execution_count": 7,
     "metadata": {},
     "output_type": "execute_result"
    }
   ],
   "source": [
    "rigidity[0]\n",
    "rigidity_binsize[0]\n",
    "ratio[0]\n",
    "df.tail()"
   ]
  },
  {
   "cell_type": "code",
   "execution_count": 21,
   "metadata": {},
   "outputs": [
    {
     "data": {
      "image/png": "[encoded data removed]",
      "text/plain": [
       "<Figure size 720x720 with 1 Axes>"
      ]
     },
     "metadata": {
      "needs_background": "light"
     },
     "output_type": "display_data"
    }
   ],
   "source": [
    "fnt=20\n",
    "x1=rigidity[0]-0.1\n",
    "x2=1.5*rigidity[-1]\n",
    "#y1=ratio[0]\n",
    "#y2=5*10**-1\n",
    "plt.figure(figsize=(10,10))\n",
    "plt.errorbar(rigidity,ratio,xerr=rigidity_binsize,yerr=ratio_errors,fmt='o',label=\"AMS\")\n",
    "#plt.plot(energy,he_3_4_2,'-o',label=\"L=2\")\n",
    "#plt.plot(energy,he_3_4_3,'-o',label=\"L=3\")\n",
    "#plt.plot(energy,he_3_4_4,'-o',label=\"L=4\")\n",
    "#plt.plot(energy,he_3_4_5,'-o',label=\"L=5\")\n",
    "plt.xscale(\"log\")\n",
    "plt.xlabel(\"Rigidity [GV]\",fontsize=fnt)\n",
    "plt.xticks(fontsize=fnt-4)\n",
    "plt.yscale(\"log\")\n",
    "plt.ylabel(\"Flux division \"+numerator+\"/\"+denominator,fontsize=fnt)\n",
    "plt.yticks(fontsize=fnt-4)\n",
    "plt.xlim([x1,x2])\n",
    "#plt.ylim([y1,y2])\n",
    "#plt.legend(loc='lower right', fontsize=fnt-4)\n",
    "plt.title(\"Example\", fontsize=fnt)\n",
    "plt.savefig(numerator+\"_\"+denominator+\"_ams_data.png\")\n",
    "plt.show()"
   ]
  },
  {
   "cell_type": "code",
   "execution_count": null,
   "metadata": {},
   "outputs": [],
   "source": []
  }
 ],
 "metadata": {
  "kernelspec": {
   "display_name": "Python 3",
   "language": "python",
   "name": "python3"
  },
  "language_info": {
   "codemirror_mode": {
    "name": "ipython",
    "version": 3
   },
   "file_extension": ".py",
   "mimetype": "text/x-python",
   "name": "python",
   "nbconvert_exporter": "python",
   "pygments_lexer": "ipython3",
   "version": "3.7.6"
  }
 },
 "nbformat": 4,
 "nbformat_minor": 4
}
