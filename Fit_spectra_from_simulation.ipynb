{
 "cells": [
  {
   "cell_type": "code",
   "execution_count": 5,
   "metadata": {},
   "outputs": [],
   "source": [
    "import numpy as np\n",
    "import pandas as pd\n",
    "# Set up matplotlib and use a nicer set of plot parameters\n",
    "import matplotlib\n",
    "#matplotlib.rc_file(\"../../templates/matplotlibrc\")\n",
    "import matplotlib.pyplot as plt\n",
    "matplotlib.rc('text', usetex=True)"
   ]
  },
  {
   "cell_type": "code",
   "execution_count": 1,
   "metadata": {},
   "outputs": [
    {
     "ename": "ModuleNotFoundError",
     "evalue": "No module named 'gammapy'",
     "output_type": "error",
     "traceback": [
      "\u001b[1;31m---------------------------------------------------------------------------\u001b[0m",
      "\u001b[1;31mModuleNotFoundError\u001b[0m                       Traceback (most recent call last)",
      "\u001b[1;32m<ipython-input-1-2da3c19307a8>\u001b[0m in \u001b[0;36m<module>\u001b[1;34m\u001b[0m\n\u001b[0;32m      2\u001b[0m \u001b[1;32mfrom\u001b[0m \u001b[0mastropy\u001b[0m \u001b[1;32mimport\u001b[0m \u001b[0munits\u001b[0m \u001b[1;32mas\u001b[0m \u001b[0mu\u001b[0m\u001b[1;33m\u001b[0m\u001b[1;33m\u001b[0m\u001b[0m\n\u001b[0;32m      3\u001b[0m \u001b[1;32mimport\u001b[0m \u001b[0mmatplotlib\u001b[0m\u001b[1;33m.\u001b[0m\u001b[0mpyplot\u001b[0m \u001b[1;32mas\u001b[0m \u001b[0mplt\u001b[0m\u001b[1;33m\u001b[0m\u001b[1;33m\u001b[0m\u001b[0m\n\u001b[1;32m----> 4\u001b[1;33m \u001b[1;32mfrom\u001b[0m \u001b[0mgammapy\u001b[0m\u001b[1;33m.\u001b[0m\u001b[0mmodeling\u001b[0m\u001b[1;33m.\u001b[0m\u001b[0mmodels\u001b[0m \u001b[1;32mimport\u001b[0m \u001b[0mModels\u001b[0m\u001b[1;33m,\u001b[0m \u001b[0mSkyModel\u001b[0m\u001b[1;33m,\u001b[0m \u001b[0mSmoothBrokenPowerLawSpectralModel\u001b[0m\u001b[1;33m\u001b[0m\u001b[1;33m\u001b[0m\u001b[0m\n\u001b[0m\u001b[0;32m      5\u001b[0m \u001b[1;33m\u001b[0m\u001b[0m\n\u001b[0;32m      6\u001b[0m \u001b[0menergy_range\u001b[0m \u001b[1;33m=\u001b[0m \u001b[1;33m[\u001b[0m\u001b[1;36m0.1\u001b[0m\u001b[1;33m,\u001b[0m \u001b[1;36m100\u001b[0m\u001b[1;33m]\u001b[0m \u001b[1;33m*\u001b[0m \u001b[0mu\u001b[0m\u001b[1;33m.\u001b[0m\u001b[0mTeV\u001b[0m\u001b[1;33m\u001b[0m\u001b[1;33m\u001b[0m\u001b[0m\n",
      "\u001b[1;31mModuleNotFoundError\u001b[0m: No module named 'gammapy'"
     ]
    }
   ],
   "source": [
    "#Example of a power law\n",
    "from astropy import units as u\n",
    "import matplotlib.pyplot as plt\n",
    "from gammapy.modeling.models import Models, SkyModel, SmoothBrokenPowerLawSpectralModel\n",
    "\n",
    "energy_range = [0.1, 100] * u.TeV\n",
    "model = SmoothBrokenPowerLawSpectralModel(\n",
    "    index1=1.5,\n",
    "    index2=2.5,\n",
    "    amplitude=\"1e-12 TeV-1 cm-2 s-1\",\n",
    "    ebreak=\"1 TeV\",\n",
    "    reference=\"1 TeV\",\n",
    "    beta=1,\n",
    ")\n",
    "model.plot(energy_range)\n",
    "plt.grid(which=\"both\")"
   ]
  },
  {
   "cell_type": "code",
   "execution_count": 7,
   "metadata": {},
   "outputs": [],
   "source": [
    "from scipy.optimize import curve_fit\n",
    "def func(E, A, ENERGY_0, GAMMA_0,ENERGY_B,GAMMA_1,BETA):\n",
    "    return A * (E/ENERGY_0)**(-GAMMA_0) *(1+(E/ENERGY_B)**((GAMMA_1-GAMMA_0)/BETA))**(-BETA)"
   ]
  },
  {
   "cell_type": "code",
   "execution_count": 8,
   "metadata": {},
   "outputs": [
    {
     "name": "stdout",
     "output_type": "stream",
     "text": [
      "[2.91576420e-08 2.01500278e-08 1.79224911e-08 1.01480730e-08\n",
      " 8.35721535e-09 5.74533859e-09 3.30189568e-09 2.33169178e-09\n",
      " 1.78316563e-09 1.28907072e-09 8.53730876e-10 5.65461987e-10\n",
      " 3.33007156e-10 2.68590162e-10 1.82342492e-10 9.39539581e-11\n",
      " 7.95547985e-11 5.35126335e-11 3.42571065e-11 2.14316827e-11\n",
      " 1.47869536e-11 7.04535621e-12 4.44181698e-12 2.88061761e-12\n",
      " 1.56499867e-12 1.02151643e-12 5.65552167e-13 3.13831421e-13\n",
      " 1.42673440e-13 1.04913046e-13 6.27019176e-14 4.27764485e-14\n",
      " 1.92869310e-14 1.15765866e-14 7.22208529e-15 3.68162503e-15\n",
      " 2.45301210e-15 9.88641076e-16 5.85893410e-16 3.51276691e-16\n",
      " 1.92451385e-16 9.69257280e-17 5.64981418e-17 4.09144816e-17\n",
      " 1.87929718e-17 1.08819672e-17 5.97826146e-18 2.60203754e-18\n",
      " 1.86639120e-18 1.02204207e-18]\n"
     ]
    },
    {
     "data": {
      "image/png": "[encoded data removed]",
      "text/plain": [
       "<Figure size 432x288 with 1 Axes>"
      ]
     },
     "metadata": {
      "needs_background": "light"
     },
     "output_type": "display_data"
    }
   ],
   "source": [
    "xdata = np.logspace(2, 7, 50)\n",
    "y = func(xdata, 10**-9,10**3, 1.5, 10**4,2.5,1)\n",
    "np.random.seed(1729)\n",
    "#need amplitude based on the flux at that energy\n",
    "y_noise = 0.1 *y* np.random.normal(size=xdata.size)\n",
    "ydata = y + y_noise\n",
    "print(ydata)\n",
    "plt.plot(xdata, ydata, 'b-o', label='data')\n",
    "plt.yscale(\"log\")\n",
    "plt.xscale(\"log\")\n",
    "plt.show()"
   ]
  },
  {
   "cell_type": "code",
   "execution_count": 9,
   "metadata": {},
   "outputs": [
    {
     "data": {
      "text/plain": [
       "array([1.0e-09, 1.0e+03, 1.5e+00, 1.0e+04, 2.5e+00, 1.0e+00])"
      ]
     },
     "execution_count": 9,
     "metadata": {},
     "output_type": "execute_result"
    }
   ],
   "source": [
    "bounds=[[10**-10,10**-8],[10**2,10**4],[0,3],[10**3,10**5],[0,5],[0,2]]\n",
    "popt, pcov = curve_fit(func, xdata, ydata,[10**-9,10**3, 1.5, 10**4,2.5,1],bounds=(0,[10**-8,10**4,3,10**5,5,2]))\n",
    "popt"
   ]
  },
  {
   "cell_type": "code",
   "execution_count": 10,
   "metadata": {},
   "outputs": [
    {
     "data": {
      "image/png": "[encoded data removed]",
      "text/plain": [
       "<Figure size 432x288 with 1 Axes>"
      ]
     },
     "metadata": {
      "needs_background": "light"
     },
     "output_type": "display_data"
    }
   ],
   "source": [
    "plt.plot(xdata, ydata, 'b-o', label='data')\n",
    "plt.plot(xdata, func(xdata, *popt), 'r-',label='fit')\n",
    "plt.yscale(\"log\")\n",
    "plt.xscale(\"log\")\n",
    "plt.show()"
   ]
  },
  {
   "cell_type": "code",
   "execution_count": 11,
   "metadata": {},
   "outputs": [],
   "source": [
    "pcov\n",
    "stdevs = np.sqrt(np.diag(pcov))\n",
    "res = ydata - func(xdata, *popt)\n"
   ]
  },
  {
   "cell_type": "code",
   "execution_count": 12,
   "metadata": {},
   "outputs": [
    {
     "data": {
      "image/png": "[encoded data removed]",
      "text/plain": [
       "<Figure size 432x288 with 1 Axes>"
      ]
     },
     "metadata": {
      "needs_background": "light"
     },
     "output_type": "display_data"
    }
   ],
   "source": [
    "plt.plot(xdata,res)\n",
    "plt.xscale(\"log\")\n",
    "plt.show()"
   ]
  },
  {
   "cell_type": "code",
   "execution_count": 13,
   "metadata": {},
   "outputs": [
    {
     "ename": "TypeError",
     "evalue": "not all arguments converted during string formatting",
     "output_type": "error",
     "traceback": [
      "\u001b[1;31m---------------------------------------------------------------------------\u001b[0m",
      "\u001b[1;31mTypeError\u001b[0m                                 Traceback (most recent call last)",
      "\u001b[1;32m<ipython-input-13-6a38c3584355>\u001b[0m in \u001b[0;36m<module>\u001b[1;34m\u001b[0m\n\u001b[0;32m      1\u001b[0m plt.plot(xdata, func(xdata, *popt), 'r-',\n\u001b[1;32m----> 2\u001b[1;33m          label='fit: a=%5.3f, b=%5.3f, c=%5.3f' % tuple(popt))\n\u001b[0m",
      "\u001b[1;31mTypeError\u001b[0m: not all arguments converted during string formatting"
     ]
    }
   ],
   "source": [
    "plt.plot(xdata, func(xdata, *popt), 'r-',\n",
    "         label='fit: a=%5.3f, b=%5.3f, c=%5.3f' % tuple(popt))"
   ]
  },
  {
   "cell_type": "code",
   "execution_count": 14,
   "metadata": {},
   "outputs": [
    {
     "data": {
      "text/html": [
       "<div>\n",
       "<style scoped>\n",
       "    .dataframe tbody tr th:only-of-type {\n",
       "        vertical-align: middle;\n",
       "    }\n",
       "\n",
       "    .dataframe tbody tr th {\n",
       "        vertical-align: top;\n",
       "    }\n",
       "\n",
       "    .dataframe thead th {\n",
       "        text-align: right;\n",
       "    }\n",
       "</style>\n",
       "<table border=\"1\" class=\"dataframe\">\n",
       "  <thead>\n",
       "    <tr style=\"text-align: right;\">\n",
       "      <th></th>\n",
       "      <th>Rlow</th>\n",
       "      <th>Rhigh</th>\n",
       "      <th>flux_boron</th>\n",
       "      <th>sig_stat</th>\n",
       "      <th>sig_acc</th>\n",
       "      <th>sig_unf</th>\n",
       "      <th>sig_scale</th>\n",
       "      <th>sig_sys</th>\n",
       "      <th>factor</th>\n",
       "    </tr>\n",
       "  </thead>\n",
       "  <tbody>\n",
       "    <tr>\n",
       "      <th>0</th>\n",
       "      <td>1.92</td>\n",
       "      <td>2.15</td>\n",
       "      <td>4.852</td>\n",
       "      <td>0.019</td>\n",
       "      <td>0.268</td>\n",
       "      <td>0.061</td>\n",
       "      <td>0.023</td>\n",
       "      <td>0.276</td>\n",
       "      <td>-1</td>\n",
       "    </tr>\n",
       "    <tr>\n",
       "      <th>1</th>\n",
       "      <td>2.15</td>\n",
       "      <td>2.40</td>\n",
       "      <td>4.845</td>\n",
       "      <td>0.016</td>\n",
       "      <td>0.240</td>\n",
       "      <td>0.046</td>\n",
       "      <td>0.017</td>\n",
       "      <td>0.245</td>\n",
       "      <td>-1</td>\n",
       "    </tr>\n",
       "    <tr>\n",
       "      <th>2</th>\n",
       "      <td>2.40</td>\n",
       "      <td>2.67</td>\n",
       "      <td>4.703</td>\n",
       "      <td>0.014</td>\n",
       "      <td>0.210</td>\n",
       "      <td>0.037</td>\n",
       "      <td>0.011</td>\n",
       "      <td>0.214</td>\n",
       "      <td>-1</td>\n",
       "    </tr>\n",
       "    <tr>\n",
       "      <th>3</th>\n",
       "      <td>2.67</td>\n",
       "      <td>2.97</td>\n",
       "      <td>4.352</td>\n",
       "      <td>0.012</td>\n",
       "      <td>0.177</td>\n",
       "      <td>0.029</td>\n",
       "      <td>0.006</td>\n",
       "      <td>0.179</td>\n",
       "      <td>-1</td>\n",
       "    </tr>\n",
       "    <tr>\n",
       "      <th>4</th>\n",
       "      <td>2.97</td>\n",
       "      <td>3.29</td>\n",
       "      <td>3.921</td>\n",
       "      <td>0.010</td>\n",
       "      <td>0.146</td>\n",
       "      <td>0.022</td>\n",
       "      <td>0.002</td>\n",
       "      <td>0.148</td>\n",
       "      <td>-1</td>\n",
       "    </tr>\n",
       "  </tbody>\n",
       "</table>\n",
       "</div>"
      ],
      "text/plain": [
       "   Rlow  Rhigh  flux_boron  sig_stat  sig_acc  sig_unf  sig_scale  sig_sys  \\\n",
       "0  1.92   2.15       4.852     0.019    0.268    0.061      0.023    0.276   \n",
       "1  2.15   2.40       4.845     0.016    0.240    0.046      0.017    0.245   \n",
       "2  2.40   2.67       4.703     0.014    0.210    0.037      0.011    0.214   \n",
       "3  2.67   2.97       4.352     0.012    0.177    0.029      0.006    0.179   \n",
       "4  2.97   3.29       3.921     0.010    0.146    0.022      0.002    0.148   \n",
       "\n",
       "   factor  \n",
       "0      -1  \n",
       "1      -1  \n",
       "2      -1  \n",
       "3      -1  \n",
       "4      -1  "
      ]
     },
     "execution_count": 14,
     "metadata": {},
     "output_type": "execute_result"
    }
   ],
   "source": [
    "# load in csv of boron flux\n",
    "ams_boron=pd.read_csv('Boron_flux_ams.csv')\n",
    "ams_boron.head()"
   ]
  },
  {
   "cell_type": "code",
   "execution_count": 15,
   "metadata": {},
   "outputs": [
    {
     "data": {
      "text/plain": [
       "array([4.852e-01, 4.845e-01, 4.703e-01, 4.352e-01, 3.921e-01, 3.468e-01,\n",
       "       3.024e-01, 2.588e-01, 2.170e-01, 1.814e-01, 1.494e-01, 1.222e-01,\n",
       "       9.973e-02, 8.024e-02, 6.488e-02, 5.248e-02, 4.199e-02, 3.389e-02,\n",
       "       2.701e-02, 2.162e-02, 1.731e-02, 1.393e-02, 1.113e-02, 8.788e-03,\n",
       "       7.075e-03, 5.646e-03, 4.486e-03, 3.563e-03, 2.841e-03, 2.275e-03,\n",
       "       1.802e-03, 1.432e-03, 1.159e-03, 9.120e-04, 7.194e-04, 5.773e-04,\n",
       "       4.701e-04, 3.702e-04, 2.990e-04, 2.394e-04, 1.910e-04, 1.509e-04,\n",
       "       1.212e-04, 9.623e-05, 7.739e-05, 6.273e-05, 4.879e-05, 3.757e-05,\n",
       "       3.068e-05, 2.460e-05, 1.874e-05, 1.528e-05, 1.158e-05, 9.010e-06,\n",
       "       6.788e-06, 5.026e-06, 3.845e-06, 2.799e-06, 2.001e-06, 1.352e-06,\n",
       "       9.053e-07, 6.365e-07, 3.879e-07, 2.036e-07, 1.043e-07, 4.361e-08,\n",
       "       5.500e-09])"
      ]
     },
     "execution_count": 15,
     "metadata": {},
     "output_type": "execute_result"
    }
   ],
   "source": [
    "#join low and high together as one array to be used as x error bars\n",
    "ams_boron_energy=np.array((ams_boron.Rlow.values,ams_boron.Rhigh.values.T))\n",
    "#ams_boron_energy=ams_boron_energy*1000 # to convert to MV\n",
    "ams_boron_energy_mp=(ams_boron_energy[0,:]+ams_boron_energy[1,:])/2.0 # find the midpoint between high and low\n",
    "# now make the error bar sizes (symmetric about these midpoints)\n",
    "ams_boron_energy_binsize=(ams_boron_energy[1,:]-ams_boron_energy[0,:])/2.0 # find the sizes of the bins\n",
    "# calc the factor to multiply 10**(factor)\n",
    "#make the flux an array\n",
    "ams_boron_flux=np.array(ams_boron.flux_boron.values * 10**(ams_boron.factor.values.astype('float')))\n",
    "ams_boron_flux"
   ]
  },
  {
   "cell_type": "code",
   "execution_count": 16,
   "metadata": {},
   "outputs": [
    {
     "name": "stdout",
     "output_type": "stream",
     "text": [
      "[2.76653213e-02 2.45521893e-02 2.14457455e-02 1.79401784e-02\n",
      " 1.48337453e-02 1.21334249e-02 9.82496819e-03 7.92275205e-03\n",
      " 6.31981012e-03 5.01597448e-03 4.01123422e-03 3.21403174e-03\n",
      " 2.56035154e-03 2.02800394e-03 1.61697248e-03 1.29653384e-03\n",
      " 1.03585713e-03 8.24924239e-04 6.53758365e-04 5.24690385e-04\n",
      " 4.24264069e-04 3.33766385e-04 2.72946881e-04 2.14553024e-04\n",
      " 1.72290452e-04 1.37931142e-04 1.10643572e-04 8.82836338e-05\n",
      " 7.02139587e-05 5.70701323e-05 4.49110231e-05 3.68781778e-05\n",
      " 2.96141858e-05 2.35512208e-05 1.88939144e-05 1.52610616e-05\n",
      " 1.26241831e-05 1.01533246e-05 8.34865259e-06 6.80073525e-06\n",
      " 5.47813837e-06 4.43846820e-06 3.62491379e-06 2.96141858e-06\n",
      " 2.43731410e-06 2.02180612e-06 1.62984662e-06 1.29495174e-06\n",
      " 1.10136279e-06 9.01387819e-07 7.18470598e-07 5.96405902e-07\n",
      " 4.72016949e-07 3.80644191e-07 2.96920865e-07 2.33863208e-07\n",
      " 1.87683244e-07 1.44360659e-07 1.11126055e-07 7.92085854e-08\n",
      " 5.79889645e-08 4.33526239e-08 2.92827594e-08 1.72072659e-08\n",
      " 1.04637469e-08 5.48322898e-09 1.27263506e-09]\n"
     ]
    },
    {
     "data": {
      "text/plain": [
       "20.3"
      ]
     },
     "execution_count": 16,
     "metadata": {},
     "output_type": "execute_result"
    }
   ],
   "source": [
    "ams_boron_sys_errors=np.array(ams_boron.sig_sys.values * 10**(ams_boron.factor.values.astype('float')))\n",
    "ams_boron_stat_errors=np.array(ams_boron.sig_stat.values * 10**(ams_boron.factor.values.astype('float')))\n",
    "ams_boron_errors=np.sqrt(np.square(ams_boron_stat_errors)+np.square(ams_boron_sys_errors))\n",
    "print(ams_boron_errors)\n",
    "ams_boron_energy[1,2]\n",
    "ams_boron_energy_mp[25]"
   ]
  },
  {
   "cell_type": "code",
   "execution_count": 21,
   "metadata": {},
   "outputs": [
    {
     "data": {
      "image/png": "[encoded data removed]",
      "text/plain": [
       "<Figure size 864x864 with 1 Axes>"
      ]
     },
     "metadata": {
      "needs_background": "light"
     },
     "output_type": "display_data"
    }
   ],
   "source": [
    "fnt=20\n",
    "x1=10**2\n",
    "x2=10**7\n",
    "y1=0\n",
    "y2=0.34\n",
    "plt.figure(figsize=(12,12))\n",
    "plt.errorbar(ams_boron_energy_mp,ams_boron_flux,xerr=ams_boron_energy_binsize,yerr=ams_boron_errors,fmt='o',label=\"AMS\")\n",
    "plt.plot(ams_boron_energy_mp,func_rigidity(ams_boron_energy_mp, *popt),'r-',label='fit')\n",
    "plt.xscale(\"log\")\n",
    "plt.yscale(\"log\")\n",
    "plt.xlabel(\"Rigidity \"r'$GV$',fontsize=fnt)\n",
    "plt.xticks(fontsize=fnt-4)\n",
    "#plt.yscale(\"log\")\n",
    "plt.ylabel(\"Flux \"r'$\\frac{1}{m^{2} s sr GV}$',fontsize=fnt)\n",
    "plt.yticks(fontsize=fnt-4)\n",
    "#plt.xlim([x1,x2])\n",
    "#plt.ylim([y1,y2])\n",
    "plt.legend(loc='lower right', fontsize=fnt-4)\n",
    "plt.title(\"Example, Boron\", fontsize=fnt)\n",
    "plt.savefig(\"Boron_flux_ams_data.png\")\n",
    "plt.show()"
   ]
  },
  {
   "cell_type": "code",
   "execution_count": 18,
   "metadata": {},
   "outputs": [],
   "source": [
    "# E_kin/nuc = (E-m*c^2)/Nnuc=(gamma*m*c^2-m*c^2)/Nnuc\n",
    "# Rigidity=p/Ze -> beta*gamma*m*c^2/Ze\n",
    "#primary lithium paper\n",
    "# A*(R/R0)**(-GAMMA0)*(1+(R/R0)**((GAMMA0-GAMMA1)/S0))**(S0)*(1+(R/R1)**((GAMMA1-GAMMA2)/S1))**(S1)*(1+(R/R2)**((GAMMA2-GAMMA3)/S2))**(S2)\n",
    "def func_rigidity(R,A,R0,GAMMA0,S0,R1,GAMMA1,S1,R2,GAMMA2,S2,GAMMA3):\n",
    "    return A*(R/R0)**(-GAMMA0)*(1+(R/R0)**((GAMMA0-GAMMA1)/S0))**(S0)*(1+(R/R1)**((GAMMA1-GAMMA2)/S1))**(S1)*(1+(R/R2)**((GAMMA2-GAMMA3)/S2))**(S2)"
   ]
  },
  {
   "cell_type": "code",
   "execution_count": 20,
   "metadata": {},
   "outputs": [
    {
     "name": "stderr",
     "output_type": "stream",
     "text": [
      "C:\\ProgramData\\Anaconda3\\lib\\site-packages\\ipykernel_launcher.py:6: RuntimeWarning: overflow encountered in power\n",
      "  \n"
     ]
    },
    {
     "data": {
      "text/plain": [
       "array([5.46975058e-01, 1.32289448e+00, 2.22374198e+00, 2.86837165e-02,\n",
       "       1.00215212e+01, 1.34180796e+00, 6.32386715e-01, 3.50002317e+02,\n",
       "       1.34182917e+00, 3.07980696e-01, 1.34186559e+00])"
      ]
     },
     "execution_count": 20,
     "metadata": {},
     "output_type": "execute_result"
    }
   ],
   "source": [
    "#best guess\n",
    "#[10**-1,1, 2.25,0.20,10.0,2.0,0.25,350,2.5,0.16,2.20]\n",
    "#bounds=([0,0,0,-1,0,0,-1,0,0,-1,0],[10**0,2,3,1,20,3,1,1000,3,1,3])\n",
    "popt, pcov = curve_fit(func_rigidity, ams_boron_energy_mp,ams_boron_flux,[10**-1,1, 2.25,0.20,10.0,2.0,0.25,350,2.5,0.16,2.20],bounds=([0,0,0,-1,0,0,-1,0,0,-1,0],[10**0,2,3,1,20,3,1,1000,3,1,3]))\n",
    "popt"
   ]
  },
  {
   "cell_type": "code",
   "execution_count": null,
   "metadata": {},
   "outputs": [],
   "source": [
    "# Load library to help read in a type of data file that Astronomers sometimes used. FITS file\n",
    "from astropy.io import fits\n",
    "#name of the file on the comp\n",
    "image_file2= \"nuclei_full_56_ex2\"\n"
   ]
  },
  {
   "cell_type": "code",
   "execution_count": null,
   "metadata": {},
   "outputs": [],
   "source": [
    "#open the fits file with the name declared and then print the info in the fits file\n",
    "hdu_list2 = fits.open(image_file2)\n",
    "hdu_list2.info()"
   ]
  },
  {
   "cell_type": "code",
   "execution_count": null,
   "metadata": {},
   "outputs": [],
   "source": [
    "# get some specific info about the fits file by accessing the fits file header \n",
    "hdr=hdu_list2[0].header\n",
    "hdr\n"
   ]
  },
  {
   "cell_type": "code",
   "execution_count": null,
   "metadata": {},
   "outputs": [],
   "source": [
    "# get the data from the fits file and assign it to the variable\n",
    "#another way to do this without opening the header is to do image_data2 = fits.getdata(image_file2)\n",
    "image_data2 = hdu_list2[0].data\n",
    "#print some info about the variable holding the data\n",
    "print(type(image_data2))\n",
    "print(image_data2.shape)\n",
    "#also, close the header since we printed it off for looking at\n",
    "hdu_list2.close()"
   ]
  },
  {
   "cell_type": "code",
   "execution_count": null,
   "metadata": {},
   "outputs": [],
   "source": [
    "# The data here is a multi-dimensional array where each value that is accessed is an amount of flux.\n",
    "# Each element of the array is one of the axes that was described in the header. \n",
    "# Accessing a flux value is done via image_data2[a,b,c,d] where the first element, a, is the element-isotope to access\n",
    "# b is the energy value, c is the z-value (height), and d is the radius.\n",
    "len(image_data2[:,0,0,0]) #access all elements at the zeroth energy scale, zmin, ymin, and xmin [(element),(energy),(z),(r)]"
   ]
  },
  {
   "cell_type": "code",
   "execution_count": null,
   "metadata": {},
   "outputs": [],
   "source": [
    "len(image_data4[:,0,0,0,0]) #access all elements at the zeroth energy scale, zmin, ymin, and xmin [element,energy,z, y,x]"
   ]
  },
  {
   "cell_type": "code",
   "execution_count": null,
   "metadata": {},
   "outputs": [],
   "source": [
    "#log10(E/MeV) = CRVAL3 + k * CDELT3 need to add in 100 MeV if passing the energy values to start at 0.\n",
    "#just writes the energy back to the same array it was given.\n",
    "#flux (MeV/nucleon)2 cm−2sr−1s−1(MeV/nucleon)−1\n",
    "# flux becomes MeV/nucleon /cm**2 /sr /s \n",
    "def undo_log_energy(energy):\n",
    "    i=0\n",
    "    while i<len(energy):\n",
    "        energy[i]=10**(energy[i]+2)\n",
    "        i+=1\n",
    "def undo_log_flux(flux_vals):\n",
    "    i=0\n",
    "    while i<len(flux_vals):\n",
    "        flux_vals[i]="
   ]
  },
  {
   "cell_type": "code",
   "execution_count": null,
   "metadata": {},
   "outputs": [],
   "source": [
    "energy=np.arange(0,7,0.304347391792257)\n",
    "undo_log_energy(energy)"
   ]
  },
  {
   "cell_type": "code",
   "execution_count": null,
   "metadata": {},
   "outputs": [],
   "source": [
    "#these are at the position of earth we expect.\n",
    "x_loc=24\n",
    "y_loc=22\n",
    "z_loc=40 #40th for the highest halo size of 4, 30th for halo size of 3\n",
    "be_10_be_9_2=np.divide(image_data2[16,:,20,y_loc,x_loc],image_data2[15,:,20,y_loc,x_loc])\n",
    "be_10_be_9_3=np.divide(image_data3[16,:,30,y_loc,x_loc],image_data3[15,:,30,y_loc,x_loc])\n",
    "be_10_be_9_4=np.divide(image_data4[16,:,40,y_loc,x_loc],image_data4[15,:,40,y_loc,x_loc])\n",
    "be_10_be_9_5=np.divide(image_data5[16,:,50,y_loc,x_loc],image_data5[15,:,50,y_loc,x_loc])\n"
   ]
  },
  {
   "cell_type": "code",
   "execution_count": null,
   "metadata": {},
   "outputs": [],
   "source": [
    "#make helium 3-4 ratio at earth\n",
    "he_3_4_2=np.divide(image_data2[10,:,20,y_loc,x_loc],image_data2[11,:,20,y_loc,x_loc])\n",
    "he_3_4_3=np.divide(image_data3[10,:,30,y_loc,x_loc],image_data3[11,:,30,y_loc,x_loc])\n",
    "he_3_4_4=np.divide(image_data4[10,:,40,y_loc,x_loc],image_data4[11,:,40,y_loc,x_loc])\n",
    "he_3_4_5=np.divide(image_data5[10,:,50,y_loc,x_loc],image_data5[11,:,50,y_loc,x_loc])"
   ]
  },
  {
   "cell_type": "code",
   "execution_count": null,
   "metadata": {},
   "outputs": [],
   "source": [
    "fnt=20\n",
    "x1=10**2\n",
    "x2=10**5\n",
    "plt.figure(figsize=(12,12))\n",
    "plt.plot(energy,be_10_be_9_2,'-o',label=\"L=2\")\n",
    "plt.plot(energy,be_10_be_9_3,'-o',label=\"L=3\")\n",
    "plt.plot(energy,be_10_be_9_4,'-o',label=\"L=4\")\n",
    "plt.plot(energy,be_10_be_9_5,'-o',label=\"L=5\")\n",
    "plt.xscale(\"log\")\n",
    "plt.xlabel(\"Kinetic Energy per nucleon \"r'$\\frac{MeV}{nucleon}$',fontsize=fnt)\n",
    "plt.xticks(fontsize=fnt-4)\n",
    "#plt.yscale(\"log\")\n",
    "plt.ylabel(\"Flux division Be-10/Be-9\",fontsize=fnt)\n",
    "plt.yticks(fontsize=fnt-4)\n",
    "plt.xlim([x1,x2])\n",
    "plt.legend(loc='lower right', fontsize=fnt-4)\n",
    "plt.title(\"Example, Beryllium\", fontsize=fnt)\n",
    "plt.savefig(\"be_ratio_multiple.png\")\n",
    "plt.show()"
   ]
  },
  {
   "cell_type": "code",
   "execution_count": null,
   "metadata": {},
   "outputs": [],
   "source": [
    "fnt=20\n",
    "x1=10**2\n",
    "x2=10**7\n",
    "plt.figure(figsize=(12,12))\n",
    "plt.plot(energy,he_3_4_2,'-o',label=\"L=2\")\n",
    "plt.plot(energy,he_3_4_3,'-o',label=\"L=3\")\n",
    "plt.plot(energy,he_3_4_4,'-o',label=\"L=4\")\n",
    "plt.plot(energy,he_3_4_5,'-o',label=\"L=5\")\n",
    "plt.xscale(\"log\")\n",
    "plt.xlabel(\"Kinetic Energy per nucleon \"r'$\\frac{MeV}{nucleon}$',fontsize=fnt)\n",
    "plt.xticks(fontsize=fnt-4)\n",
    "#plt.yscale(\"log\")\n",
    "plt.ylabel(\"Flux division He-3/He-4\",fontsize=fnt)\n",
    "plt.yticks(fontsize=fnt-4)\n",
    "plt.xlim([x1,x2])\n",
    "plt.legend(loc='lower right', fontsize=fnt-4)\n",
    "plt.title(\"Example, Helium\", fontsize=fnt)\n",
    "plt.savefig(\"He_ratio_multiple.png\")\n",
    "plt.show()"
   ]
  },
  {
   "cell_type": "code",
   "execution_count": null,
   "metadata": {},
   "outputs": [],
   "source": [
    "#make more isotope ratios here, store as arrays?\n",
    "Li_7_Li_6_2=np.divide(image_data2[13,:,20,y_loc,x_loc],image_data2[12,:,20,y_loc,x_loc])\n",
    "Li_7_Li_6_3=np.divide(image_data3[13,:,20,y_loc,x_loc],image_data3[12,:,20,y_loc,x_loc])\n",
    "Li_7_Li_6_4=np.divide(image_data4[13,:,20,y_loc,x_loc],image_data4[12,:,20,y_loc,x_loc])\n",
    "Ne_22_Ne_20_2=np.divide(image_data2[29,:,20,y_loc,x_loc],image_data2[27,:,20,y_loc,x_loc])\n",
    "Ne_22_Ne_20_3=np.divide(image_data3[29,:,20,y_loc,x_loc],image_data3[27,:,20,y_loc,x_loc])\n",
    "Ne_22_Ne_20_4=np.divide(image_data4[29,:,20,y_loc,x_loc],image_data4[27,:,20,y_loc,x_loc])\n",
    "\n",
    "fnt=20\n",
    "y1=0.6\n",
    "y2=1.1\n",
    "x1=10**2\n",
    "x2=10**5\n",
    "fig,ax=plt.subplots(figsize=(12, 18), dpi=400, nrows=3,sharex=True)\n",
    "fig.subplots_adjust(hspace=0)\n",
    "ax[0].plot(energy,Li_7_Li_6_2,'-o',label=\"L=2\")\n",
    "ax[0].plot(energy,Li_7_Li_6_3,'-o',label=\"L=3\")\n",
    "ax[0].plot(energy,Li_7_Li_6_4,'-o',label=\"L=4\")\n",
    "ax[0].legend(loc='lower right',fontsize=fnt)\n",
    "ax[0].set_xscale(\"log\")\n",
    "ax[0].set_ylabel(\"Flux division Li-7/Li-6\",fontsize=fnt)\n",
    "ax[0].set_ylim([y1,y2])\n",
    "ax[0].tick_params(labelsize=fnt)\n",
    "# beryllium\n",
    "ax[1].plot(energy,be_10_be_9_2,'-o')\n",
    "ax[1].plot(energy,be_10_be_9_3,'-o')\n",
    "ax[1].plot(energy,be_10_be_9_4,'-o')\n",
    "ax[1].set_xscale(\"log\")\n",
    "ax[1].set_ylabel(\"Flux division Be-10/Be-9\",fontsize=fnt)\n",
    "ax[1].set_ylim([0,0.6])\n",
    "ax[1].tick_params(labelsize=fnt)\n",
    "# Neon\n",
    "ax[2].plot(energy,Ne_22_Ne_20_2,'-o')\n",
    "ax[2].plot(energy,Ne_22_Ne_20_3,'-o')\n",
    "ax[2].plot(energy,Ne_22_Ne_20_4,'-o')\n",
    "ax[2].set_xscale(\"log\")\n",
    "ax[2].set_ylabel(\"Flux division Ne-22/Ne-20\",fontsize=fnt)\n",
    "ax[2].set_xlabel(\"Kinetic Energy per nucleon \"r'$\\frac{MeV}{nucleon}$',fontsize=fnt)\n",
    "ax[2].tick_params(labelsize=fnt)\n",
    "ax[2].set_ylim([0.1,0.75])\n",
    "plt.xlim([x1,x2])\n",
    "plt.savefig(\"isotopes_ratio_multiple.png\")\n",
    "plt.show()"
   ]
  },
  {
   "cell_type": "code",
   "execution_count": null,
   "metadata": {},
   "outputs": [],
   "source": [
    "#nitrogen?"
   ]
  },
  {
   "cell_type": "code",
   "execution_count": null,
   "metadata": {},
   "outputs": [],
   "source": [
    "# can i get a map of the normalized flux per particle across the plane of the galaxy?\n",
    "#first make grid of the galaxy\n",
    "x_kpc=np.arange(-14,14,0.903224903225806)\n",
    "y_kpc=np.linspace(-14,14,29, endpoint=True)\n",
    "z_kpc2=np.linspace(-2,2,41, endpoint=True)\n",
    "z_kpc3=np.linspace(-3,3,61, endpoint=True)\n",
    "z_kpc4=np.linspace(-4,4,81, endpoint=True)\n",
    "X,Y=np.meshgrid(x_kpc,y_kpc)\n",
    "print(y_kpc)\n",
    "# now make the normalized flux for a given energy\n",
    "norms=np.divide(image_data2[16,2,20,:,:],image_data2[15,2,20,:,:])\n",
    "#norms = norms[np.logical_not(np.isnan(norms))]\n",
    "\n",
    "print(norms.shape)\n",
    "print(norms[:,10])"
   ]
  },
  {
   "cell_type": "code",
   "execution_count": null,
   "metadata": {},
   "outputs": [],
   "source": [
    "# plotting the 3d full output on xy (plane of galaxy) at z of 0.\n",
    "#need to make an array thats (x,y,mag) where mag is normalized. \n",
    "#plt.imshow((X,Y), cmap='gray')\n",
    "plt.pcolormesh(X, Y, norms, vmin=0,vmax=0.25,cmap=plt.cm.get_cmap('Blues'))\n",
    "plt.colorbar()\n",
    "plt.xlabel(\"x (kpc)\")\n",
    "plt.ylabel(\"y (kpc)\")\n",
    "plt.title(\"Be-10/Be-9 low E\")\n",
    "plt.savefig(\"proof_of_concept.png\")\n",
    "plt.show()"
   ]
  },
  {
   "cell_type": "code",
   "execution_count": null,
   "metadata": {},
   "outputs": [],
   "source": [
    "#now for x,z at same energy.\n",
    "X,Z=np.meshgrid(x_kpc,z_kpc2)\n",
    "print(z_kpc2)\n",
    "# now make the normalized flux for a given energy\n",
    "norms_xz=np.divide(image_data2[16,2,:,10,:],image_data2[15,2,:,10,:])\n",
    "print(norms_xz.shape)\n",
    "print(norms_xz[:,10])\n",
    "plt.pcolormesh(X, Z, norms_xz, cmap=plt.cm.get_cmap('Blues'))\n",
    "plt.colorbar()\n",
    "plt.title(\"Be-10/Be-9 low E\")\n",
    "plt.savefig(\"proof_of_concept_xz.png\")\n",
    "plt.show()"
   ]
  },
  {
   "cell_type": "code",
   "execution_count": null,
   "metadata": {},
   "outputs": [],
   "source": [
    "# can i get a map of the normalized flux per particle across the plane of the galaxy?\n",
    "#first make grid of the galaxy\n",
    "X,Y=np.meshgrid(x_kpc,y_kpc)\n",
    "print(y_kpc)\n",
    "# now make the normalized flux for a given energy\n",
    "norms=np.divide(image_data2[16,12,20,:,:],image_data2[15,12,20,:,:])\n",
    "print(norms.shape)\n",
    "print(norms[:,10])\n",
    "# plotting the 3d full output on xy (plane of galaxy) at z of 0.\n",
    "#need to make an array thats (x,y,mag) where mag is normalized. \n",
    "#plt.imshow((X,Y), cmap='gray')\n",
    "plt.pcolormesh(X, Y, norms,vmin=0.5,vmax=0.6, cmap=plt.cm.get_cmap('Blues'))\n",
    "plt.colorbar()\n",
    "plt.title(\"Be-10/Be-9 med E\")\n",
    "plt.savefig(\"proof_of_concept_med.png\")\n",
    "plt.show()"
   ]
  },
  {
   "cell_type": "code",
   "execution_count": null,
   "metadata": {},
   "outputs": [],
   "source": [
    "#now for x,z at same energy.\n",
    "x_kpc=np.arange(-10,10,0.869564347826087)\n",
    "z_kpc=np.linspace(-2,2,41, endpoint=True)\n",
    "X,Z=np.meshgrid(x_kpc,z_kpc)\n",
    "print(z_kpc)\n",
    "# now make the normalized flux for a given energy\n",
    "norms_xz=np.divide(image_data5[16,12,:,10,:],image_data5[15,12,:,10,:])\n",
    "print(norms_xz.shape)\n",
    "print(norms_xz[:,10])\n",
    "plt.pcolormesh(X, Z, norms_xz, cmap=plt.cm.get_cmap('Blues'))\n",
    "plt.colorbar()\n",
    "plt.title(\"Be-10/Be-9 med E\")\n",
    "plt.savefig(\"proof_of_concept_med_xz.png\")\n",
    "plt.show()"
   ]
  },
  {
   "cell_type": "code",
   "execution_count": null,
   "metadata": {},
   "outputs": [],
   "source": [
    "# can i get a map of the normalized flux per particle across the plane of the galaxy?\n",
    "#first make grid of the galaxy\n",
    "x_kpc=np.arange(-10,10,0.869564347826087)\n",
    "y_kpc=np.linspace(-10,10,21, endpoint=True)\n",
    "X,Y=np.meshgrid(x_kpc,y_kpc)\n",
    "print(y_kpc)\n",
    "# now make the normalized flux for a given energy\n",
    "norms=np.divide(image_data5[16,22,20,:,:],image_data5[15,22,20,:,:])\n",
    "print(norms.shape)\n",
    "print(norms[:,10])\n",
    "# plotting the 3d full output on xy (plane of galaxy) at z of 0.\n",
    "#need to make an array thats (x,y,mag) where mag is normalized. \n",
    "#plt.imshow((X,Y), cmap='gray')\n",
    "plt.pcolormesh(X, Y, norms, cmap=plt.cm.get_cmap('Blues'))\n",
    "plt.colorbar()\n",
    "plt.title(\"Be-10/Be-9 high E\")\n",
    "plt.savefig(\"proof_of_concept_high.png\")\n",
    "plt.show()#now for x,z at same energy.\n",
    "x_kpc=np.arange(-10,10,0.869564347826087)\n",
    "z_kpc=np.linspace(-2,2,41, endpoint=True)\n",
    "X,Z=np.meshgrid(x_kpc,z_kpc)\n",
    "print(z_kpc)\n",
    "# now make the normalized flux for a given energy\n",
    "norms_xz=np.divide(image_data5[16,22,:,10,:],image_data5[15,22,:,10,:])\n",
    "print(norms_xz.shape)\n",
    "print(norms_xz[:,10])\n",
    "plt.pcolormesh(X, Z, norms_xz, cmap=plt.cm.get_cmap('Blues'))\n",
    "plt.colorbar()\n",
    "plt.title(\"Be-10/Be-9 high E\")\n",
    "plt.savefig(\"proof_of_concept_high_xz.png\")\n",
    "plt.show()"
   ]
  },
  {
   "cell_type": "code",
   "execution_count": null,
   "metadata": {},
   "outputs": [],
   "source": [
    "#read in the ams data on helium\n",
    "ams=pd.read_csv('he_3_4_ams_data.csv')\n",
    "ams.head()\n",
    "#join low and high together as one array to be used as x error bars\n",
    "ams_energy=np.array((ams.EK_low.values,ams.Ek_high.values.T))\n",
    "ams_energy=ams_energy*1000\n",
    "ams_energy_mp=(ams_energy[0,:]+ams_energy[1,:])/2.0\n",
    "# now make the error bar sizes (symmetric about these midpoints)\n",
    "ams_energy_binsize=(ams_energy[1,:]-ams_energy[0,:])/2.0\n",
    "#make the ratio an array\n",
    "ams_ratio=np.array(ams._3He_over_4He.values * ams._factor_ratio.values)"
   ]
  },
  {
   "cell_type": "code",
   "execution_count": null,
   "metadata": {},
   "outputs": [],
   "source": [
    "ams_ratio_sys_erros=np.array(ams._sys_ratio.values * ams._factor_ratio)\n",
    "ams_ratio_stat_erros=np.array(ams._stat_ratio.values * ams._factor_ratio)\n",
    "ams_ratio_errors=np.sqrt(np.square(ams_ratio_stat_erros)+np.square(ams_ratio_sys_erros))\n",
    "ams_ratio_errors"
   ]
  },
  {
   "cell_type": "code",
   "execution_count": null,
   "metadata": {},
   "outputs": [],
   "source": [
    "ams_energy[1,2]\n",
    "ams_energy_mp[25]"
   ]
  },
  {
   "cell_type": "code",
   "execution_count": null,
   "metadata": {},
   "outputs": [],
   "source": [
    "ams.tail()"
   ]
  },
  {
   "cell_type": "code",
   "execution_count": null,
   "metadata": {},
   "outputs": [],
   "source": [
    "ams_energy"
   ]
  },
  {
   "cell_type": "code",
   "execution_count": null,
   "metadata": {},
   "outputs": [],
   "source": [
    "fnt=20\n",
    "x1=10**2\n",
    "x2=10**7\n",
    "y1=0\n",
    "y2=0.34\n",
    "plt.figure(figsize=(12,12))\n",
    "plt.errorbar(ams_energy_mp,ams_ratio,xerr=ams_energy_binsize,yerr=ams_ratio_errors,fmt='o',label=\"AMS\")\n",
    "plt.plot(energy,he_3_4_2,'-o',label=\"L=2\")\n",
    "plt.plot(energy,he_3_4_3,'-o',label=\"L=3\")\n",
    "plt.plot(energy,he_3_4_4,'-o',label=\"L=4\")\n",
    "plt.plot(energy,he_3_4_5,'-o',label=\"L=5\")\n",
    "plt.xscale(\"log\")\n",
    "plt.xlabel(\"Kinetic Energy per nucleon \"r'$\\frac{MeV}{nucleon}$',fontsize=fnt)\n",
    "plt.xticks(fontsize=fnt-4)\n",
    "#plt.yscale(\"log\")\n",
    "plt.ylabel(\"Flux division He-3/He-4\",fontsize=fnt)\n",
    "plt.yticks(fontsize=fnt-4)\n",
    "#plt.xlim([x1,x2])\n",
    "plt.ylim([y1,y2])\n",
    "plt.legend(loc='lower right', fontsize=fnt-4)\n",
    "plt.title(\"Example, Helium\", fontsize=fnt)\n",
    "plt.savefig(\"He_ratio_ams_data.png\")\n",
    "plt.show()"
   ]
  },
  {
   "cell_type": "code",
   "execution_count": null,
   "metadata": {},
   "outputs": [],
   "source": []
  }
 ],
 "metadata": {
  "kernelspec": {
   "display_name": "Python 3",
   "language": "python",
   "name": "python3"
  },
  "language_info": {
   "codemirror_mode": {
    "name": "ipython",
    "version": 3
   },
   "file_extension": ".py",
   "mimetype": "text/x-python",
   "name": "python",
   "nbconvert_exporter": "python",
   "pygments_lexer": "ipython3",
   "version": "3.7.6"
  }
 },
 "nbformat": 4,
 "nbformat_minor": 4
}
