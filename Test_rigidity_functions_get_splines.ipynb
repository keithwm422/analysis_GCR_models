{
 "cells": [
  {
   "cell_type": "code",
   "execution_count": 1,
   "metadata": {},
   "outputs": [],
   "source": [
    "import numpy as np\n",
    "import pandas as pd\n",
    "# Set up matplotlib and use a nicer set of plot parameters\n",
    "import matplotlib\n",
    "#matplotlib.rc_file(\"../../templates/matplotlibrc\")\n",
    "import matplotlib.pyplot as plt\n",
    "matplotlib.rc('text', usetex=True)\n",
    "import os\n",
    "os.getcwd()\n",
    "from get_splines import *"
   ]
  },
  {
   "cell_type": "code",
   "execution_count": 2,
   "metadata": {},
   "outputs": [],
   "source": [
    "# get FITS capabilities\n",
    "from astropy.io import fits\n",
    "# get tar working lib\n",
    "import tarfile"
   ]
  },
  {
   "cell_type": "code",
   "execution_count": 3,
   "metadata": {},
   "outputs": [
    {
     "name": "stdout",
     "output_type": "stream",
     "text": [
      "GALPROP/runs_L_D/L_10_D_10/nuclei_full_56_L_10_D_10\n",
      "GALPROP/runs_L_D/L_10_D_11/nuclei_full_56_L_10_D_11\n",
      "GALPROP/runs_L_D/L_10_D_12/nuclei_full_56_L_10_D_12\n",
      "GALPROP/runs_L_D/L_10_D_3/nuclei_full_56_L_10_D_3\n",
      "GALPROP/runs_L_D/L_10_D_4/nuclei_full_56_L_10_D_4\n",
      "GALPROP/runs_L_D/L_10_D_5/nuclei_full_56_L_10_D_5\n",
      "GALPROP/runs_L_D/L_10_D_6/nuclei_full_56_L_10_D_6\n",
      "GALPROP/runs_L_D/L_10_D_7/nuclei_full_56_L_10_D_7\n",
      "GALPROP/runs_L_D/L_10_D_8/nuclei_full_56_L_10_D_8\n",
      "GALPROP/runs_L_D/L_10_D_9/nuclei_full_56_L_10_D_9\n",
      "GALPROP/runs_L_D/L_1_D_10/nuclei_full_56_L_1_D_10\n",
      "GALPROP/runs_L_D/L_1_D_11/nuclei_full_56_L_1_D_11\n",
      "GALPROP/runs_L_D/L_1_D_12/nuclei_full_56_L_1_D_12\n",
      "GALPROP/runs_L_D/L_1_D_3/nuclei_full_56_L_1_D_3\n",
      "GALPROP/runs_L_D/L_1_D_4/nuclei_full_56_L_1_D_4\n",
      "GALPROP/runs_L_D/L_1_D_5/nuclei_full_56_L_1_D_5\n",
      "GALPROP/runs_L_D/L_1_D_6/nuclei_full_56_L_1_D_6\n",
      "GALPROP/runs_L_D/L_1_D_7/nuclei_full_56_L_1_D_7\n",
      "GALPROP/runs_L_D/L_1_D_8/nuclei_full_56_L_1_D_8\n",
      "GALPROP/runs_L_D/L_1_D_9/nuclei_full_56_L_1_D_9\n",
      "GALPROP/runs_L_D/L_2_D_10/nuclei_full_56_L_2_D_10\n",
      "GALPROP/runs_L_D/L_2_D_11/nuclei_full_56_L_2_D_11\n",
      "GALPROP/runs_L_D/L_2_D_12/nuclei_full_56_L_2_D_12\n",
      "GALPROP/runs_L_D/L_2_D_3/nuclei_full_56_L_2_D_3\n",
      "GALPROP/runs_L_D/L_2_D_4/nuclei_full_56_L_2_D_4\n",
      "GALPROP/runs_L_D/L_2_D_5/nuclei_full_56_L_2_D_5\n",
      "GALPROP/runs_L_D/L_2_D_6/nuclei_full_56_L_2_D_6\n",
      "GALPROP/runs_L_D/L_2_D_7/nuclei_full_56_L_2_D_7\n",
      "GALPROP/runs_L_D/L_2_D_8/nuclei_full_56_L_2_D_8\n",
      "GALPROP/runs_L_D/L_2_D_9/nuclei_full_56_L_2_D_9\n",
      "GALPROP/runs_L_D/L_3_D_10/nuclei_full_56_L_3_D_10\n",
      "GALPROP/runs_L_D/L_3_D_11/nuclei_full_56_L_3_D_11\n",
      "GALPROP/runs_L_D/L_3_D_12/nuclei_full_56_L_3_D_12\n",
      "GALPROP/runs_L_D/L_3_D_3/nuclei_full_56_L_3_D_3\n",
      "GALPROP/runs_L_D/L_3_D_4/nuclei_full_56_L_3_D_4\n",
      "GALPROP/runs_L_D/L_3_D_5/nuclei_full_56_L_3_D_5\n",
      "GALPROP/runs_L_D/L_3_D_6/nuclei_full_56_L_3_D_6\n",
      "GALPROP/runs_L_D/L_3_D_7/nuclei_full_56_L_3_D_7\n",
      "GALPROP/runs_L_D/L_3_D_8/nuclei_full_56_L_3_D_8\n",
      "GALPROP/runs_L_D/L_3_D_9/nuclei_full_56_L_3_D_9\n",
      "GALPROP/runs_L_D/L_4_D_10/nuclei_full_56_L_4_D_10\n",
      "GALPROP/runs_L_D/L_4_D_11/nuclei_full_56_L_4_D_11\n",
      "GALPROP/runs_L_D/L_4_D_12/nuclei_full_56_L_4_D_12\n",
      "GALPROP/runs_L_D/L_4_D_3/nuclei_full_56_L_4_D_3\n",
      "GALPROP/runs_L_D/L_4_D_4/nuclei_full_56_L_4_D_4\n",
      "GALPROP/runs_L_D/L_4_D_5/nuclei_full_56_L_4_D_5\n",
      "GALPROP/runs_L_D/L_4_D_6/nuclei_full_56_L_4_D_6\n",
      "GALPROP/runs_L_D/L_4_D_7/nuclei_full_56_L_4_D_7\n",
      "GALPROP/runs_L_D/L_4_D_8/nuclei_full_56_L_4_D_8\n",
      "GALPROP/runs_L_D/L_4_D_9/nuclei_full_56_L_4_D_9\n",
      "GALPROP/runs_L_D/L_5_D_10/nuclei_full_56_L_5_D_10\n",
      "GALPROP/runs_L_D/L_5_D_11/nuclei_full_56_L_5_D_11\n",
      "GALPROP/runs_L_D/L_5_D_12/nuclei_full_56_L_5_D_12\n",
      "GALPROP/runs_L_D/L_5_D_3/nuclei_full_56_L_5_D_3\n",
      "GALPROP/runs_L_D/L_5_D_4/nuclei_full_56_L_5_D_4\n",
      "GALPROP/runs_L_D/L_5_D_5/nuclei_full_56_L_5_D_5\n",
      "GALPROP/runs_L_D/L_5_D_6/nuclei_full_56_L_5_D_6\n",
      "GALPROP/runs_L_D/L_5_D_7/nuclei_full_56_L_5_D_7\n",
      "GALPROP/runs_L_D/L_5_D_8/nuclei_full_56_L_5_D_8\n",
      "GALPROP/runs_L_D/L_5_D_9/nuclei_full_56_L_5_D_9\n",
      "GALPROP/runs_L_D/L_6_D_10/nuclei_full_56_L_6_D_10\n",
      "GALPROP/runs_L_D/L_6_D_11/nuclei_full_56_L_6_D_11\n",
      "GALPROP/runs_L_D/L_6_D_12/nuclei_full_56_L_6_D_12\n",
      "GALPROP/runs_L_D/L_6_D_3/nuclei_full_56_L_6_D_3\n",
      "GALPROP/runs_L_D/L_6_D_4/nuclei_full_56_L_6_D_4\n",
      "GALPROP/runs_L_D/L_6_D_5/nuclei_full_56_L_6_D_5\n",
      "GALPROP/runs_L_D/L_6_D_6/nuclei_full_56_L_6_D_6\n",
      "GALPROP/runs_L_D/L_6_D_7/nuclei_full_56_L_6_D_7\n",
      "GALPROP/runs_L_D/L_6_D_8/nuclei_full_56_L_6_D_8\n",
      "GALPROP/runs_L_D/L_6_D_9/nuclei_full_56_L_6_D_9\n",
      "GALPROP/runs_L_D/L_7_D_10/nuclei_full_56_L_7_D_10\n",
      "GALPROP/runs_L_D/L_7_D_11/nuclei_full_56_L_7_D_11\n",
      "GALPROP/runs_L_D/L_7_D_12/nuclei_full_56_L_7_D_12\n",
      "GALPROP/runs_L_D/L_7_D_3/nuclei_full_56_L_7_D_3\n",
      "GALPROP/runs_L_D/L_7_D_4/nuclei_full_56_L_7_D_4\n",
      "GALPROP/runs_L_D/L_7_D_5/nuclei_full_56_L_7_D_5\n",
      "GALPROP/runs_L_D/L_7_D_6/nuclei_full_56_L_7_D_6\n",
      "GALPROP/runs_L_D/L_7_D_7/nuclei_full_56_L_7_D_7\n",
      "GALPROP/runs_L_D/L_7_D_8/nuclei_full_56_L_7_D_8\n",
      "GALPROP/runs_L_D/L_7_D_9/nuclei_full_56_L_7_D_9\n",
      "GALPROP/runs_L_D/L_8_D_10/nuclei_full_56_L_8_D_10\n",
      "GALPROP/runs_L_D/L_8_D_11/nuclei_full_56_L_8_D_11\n",
      "GALPROP/runs_L_D/L_8_D_12/nuclei_full_56_L_8_D_12\n",
      "GALPROP/runs_L_D/L_8_D_3/nuclei_full_56_L_8_D_3\n",
      "GALPROP/runs_L_D/L_8_D_4/nuclei_full_56_L_8_D_4\n",
      "GALPROP/runs_L_D/L_8_D_5/nuclei_full_56_L_8_D_5\n",
      "GALPROP/runs_L_D/L_8_D_6/nuclei_full_56_L_8_D_6\n",
      "GALPROP/runs_L_D/L_8_D_7/nuclei_full_56_L_8_D_7\n",
      "GALPROP/runs_L_D/L_8_D_8/nuclei_full_56_L_8_D_8\n",
      "GALPROP/runs_L_D/L_8_D_9/nuclei_full_56_L_8_D_9\n",
      "GALPROP/runs_L_D/L_9_D_10/nuclei_full_56_L_9_D_10\n",
      "GALPROP/runs_L_D/L_9_D_11/nuclei_full_56_L_9_D_11\n",
      "GALPROP/runs_L_D/L_9_D_12/nuclei_full_56_L_9_D_12\n",
      "GALPROP/runs_L_D/L_9_D_3/nuclei_full_56_L_9_D_3\n",
      "GALPROP/runs_L_D/L_9_D_4/nuclei_full_56_L_9_D_4\n",
      "GALPROP/runs_L_D/L_9_D_5/nuclei_full_56_L_9_D_5\n",
      "GALPROP/runs_L_D/L_9_D_6/nuclei_full_56_L_9_D_6\n",
      "GALPROP/runs_L_D/L_9_D_7/nuclei_full_56_L_9_D_7\n",
      "GALPROP/runs_L_D/L_9_D_8/nuclei_full_56_L_9_D_8\n",
      "GALPROP/runs_L_D/L_9_D_9/nuclei_full_56_L_9_D_9\n",
      "100\n",
      "<class 'numpy.ndarray'>\n",
      "(94, 24, 41, 29, 32)\n",
      "<class 'numpy.ndarray'>\n",
      "(94, 24, 41, 29, 32)\n",
      "<class 'numpy.ndarray'>\n",
      "(94, 24, 41, 29, 32)\n",
      "<class 'numpy.ndarray'>\n",
      "(94, 24, 41, 29, 32)\n",
      "<class 'numpy.ndarray'>\n",
      "(94, 24, 41, 29, 32)\n",
      "<class 'numpy.ndarray'>\n",
      "(94, 24, 41, 29, 32)\n",
      "<class 'numpy.ndarray'>\n",
      "(94, 24, 41, 29, 32)\n",
      "<class 'numpy.ndarray'>\n",
      "(94, 24, 41, 29, 32)\n",
      "<class 'numpy.ndarray'>\n",
      "(94, 24, 41, 29, 32)\n",
      "<class 'numpy.ndarray'>\n",
      "(94, 24, 41, 29, 32)\n"
     ]
    }
   ],
   "source": [
    "###FLUXES### in order as the elements we have above\n",
    "fluxes_per_element_full=[]\n",
    "fluxes_per_element_per_fits_file=[] # clear this after every load of a fits file\n",
    "tar = tarfile.open(\"runs_L_D.tar.gz\")\n",
    "i=0\n",
    "tots=0\n",
    "list_found=[]\n",
    "while i<len(tar.getmembers()):\n",
    "    if tar.getmembers()[i].isfile():\n",
    "        if tar.getmembers()[i].name.find('nuclei_full') !=-1:\n",
    "            list_found.append(i)\n",
    "            print(tar.getmembers()[i].name)\n",
    "        # find the string nuclei_full in the filenam\n",
    "            tots+=1\n",
    "    i+=1\n",
    "print(tots)\n",
    "k=0\n",
    "names=[]\n",
    "FITS_data_full=[]\n",
    "while k<10:\n",
    "#while k<len(list_found):\n",
    "    fluxes_per_element_per_fits_file=[]\n",
    "    j=list_found[k]\n",
    "    open_file=tar.extractfile(tar.getmembers()[j].name)\n",
    "    fileFITS_data = fits.getdata(open_file)\n",
    "    print(type(fileFITS_data))\n",
    "    print(fileFITS_data.shape)\n",
    "    for i in cosmic_ray_nuclei_index.element_index: fluxes_per_element_per_fits_file.append(\n",
    "        fileFITS_data[i,:,cosmic_ray_nuclei_index.z_loc,cosmic_ray_nuclei_index.y_loc,cosmic_ray_nuclei_index.x_loc])\n",
    "    fluxes_per_element_per_fits_file.append(tar.getmembers()[j].name)\n",
    "    #FITS_data_full.append(fileFITS_data)\n",
    "    # append to the arrays we need instead:\n",
    "    names.append(tar.getmembers()[j].name)\n",
    "    fluxes_per_element_full.append(fluxes_per_element_per_fits_file)\n",
    "    k+=1\n",
    "tar.close()"
   ]
  },
  {
   "cell_type": "code",
   "execution_count": 4,
   "metadata": {},
   "outputs": [
    {
     "name": "stdout",
     "output_type": "stream",
     "text": [
      "[1.00000000e-01 2.01533567e-01 4.06157787e-01 8.18544275e-01\n",
      " 1.64964148e+00 3.32458131e+00 6.70014730e+00 1.35030459e+01\n",
      " 2.72131700e+01 5.48436722e+01 1.10528409e+02 2.22751845e+02\n",
      " 4.48919739e+02 9.04723963e+02 1.82332247e+03 3.67460682e+03\n",
      " 7.40556620e+03 1.49247017e+04 3.00782838e+04 6.06178382e+04\n",
      " 1.22165292e+05 2.46204070e+05 4.96183844e+05 9.99977000e+05]\n"
     ]
    }
   ],
   "source": [
    "#get energy axis and change to GeV (undo the logarithm to put in actual energy units)\n",
    "energy=np.arange(2,9,0.304347391792257)\n",
    "energy=undo_log_energy(energy)\n",
    "energy=np.true_divide(energy,10**3)\n",
    "print(energy)"
   ]
  },
  {
   "cell_type": "code",
   "execution_count": 29,
   "metadata": {},
   "outputs": [],
   "source": [
    "# the energy array is the same for all isotopes\n",
    "#need to pass the log fluxes found from the models above like so:\n",
    "model=5# loaded 0,9 models above so pick one\n",
    "num_steps=200\n",
    "logB10_flux=log_energy(fluxes_per_element_full[model][cosmic_ray_nuclei_index.element_index.index(cosmic_ray_nuclei_index.boron10_loc)])\n",
    "logB11_flux=log_energy(fluxes_per_element_full[model][cosmic_ray_nuclei_index.element_index.index(cosmic_ray_nuclei_index.boron11_loc)])\n",
    "logC12_flux=log_energy(fluxes_per_element_full[model][cosmic_ray_nuclei_index.element_index.index(cosmic_ray_nuclei_index.carbon12_loc)])\n",
    "logC13_flux=log_energy(fluxes_per_element_full[model][cosmic_ray_nuclei_index.element_index.index(cosmic_ray_nuclei_index.carbon13_loc)])\n",
    "rigC13_spline,B_C_ratio_spline=B_C_ratio(energy,logB10_flux,logB11_flux,logC12_flux,logC13_flux,num_steps)"
   ]
  },
  {
   "cell_type": "code",
   "execution_count": 6,
   "metadata": {},
   "outputs": [],
   "source": [
    "def read_in_data(numerator,denominator,path):\n",
    "    extension='ams_data.csv'\n",
    "    read_file=path+numerator+'_'+denominator+'_'+extension\n",
    "    ams=pd.read_csv(read_file)\n",
    "    print(ams.head())\n",
    "    return ams"
   ]
  },
  {
   "cell_type": "code",
   "execution_count": 7,
   "metadata": {},
   "outputs": [
    {
     "name": "stdout",
     "output_type": "stream",
     "text": [
      "   R_low  R_high  _B_C_ratio   _stat    _acc    _unf  _scale    _sys\n",
      "0   1.92    2.15      0.2880  0.0016  0.0151  0.0052  0.0002  0.0160\n",
      "1   2.15    2.40      0.2947  0.0014  0.0138  0.0031  0.0002  0.0142\n",
      "2   2.40    2.67      0.3033  0.0013  0.0128  0.0026  0.0002  0.0131\n",
      "3   2.67    2.97      0.3086  0.0013  0.0118  0.0022  0.0002  0.0120\n",
      "4   2.97    3.29      0.3173  0.0012  0.0111  0.0019  0.0001  0.0112\n"
     ]
    }
   ],
   "source": [
    "numerator='B'\n",
    "denominator='C'\n",
    "path='C:\\\\Users\\\\kreativekeith422\\\\Downloads\\\\AMS_Data\\\\Ratios\\\\'\n",
    "df=read_in_data(numerator,denominator,path)"
   ]
  },
  {
   "cell_type": "code",
   "execution_count": 8,
   "metadata": {},
   "outputs": [],
   "source": [
    "def make_energies_and_errors(df,num,den):\n",
    "    rigidity=np.array((df.R_low.values,df.R_high.values.T))\n",
    "    rigidity_mp=(rigidity[0,:]+rigidity[1,:])/2.0\n",
    "    rigidity_binsize=(rigidity[1,:]-rigidity[0,:])/2.0\n",
    "    ratio_name='_'+str(num)+'_'+str(den)+'_'+'ratio'\n",
    "    ratio=np.array(df[ratio_name].values)\n",
    "    ratio_sys_errors=np.array(df._sys.values)\n",
    "    ratio_stat_errors=np.array(df._stat.values)\n",
    "    ratio_errors=np.sqrt(np.square(ratio_stat_errors)+np.square(ratio_sys_errors))\n",
    "    return rigidity_mp,rigidity_binsize,ratio,ratio_errors"
   ]
  },
  {
   "cell_type": "code",
   "execution_count": 9,
   "metadata": {},
   "outputs": [
    {
     "data": {
      "text/html": [
       "<div>\n",
       "<style scoped>\n",
       "    .dataframe tbody tr th:only-of-type {\n",
       "        vertical-align: middle;\n",
       "    }\n",
       "\n",
       "    .dataframe tbody tr th {\n",
       "        vertical-align: top;\n",
       "    }\n",
       "\n",
       "    .dataframe thead th {\n",
       "        text-align: right;\n",
       "    }\n",
       "</style>\n",
       "<table border=\"1\" class=\"dataframe\">\n",
       "  <thead>\n",
       "    <tr style=\"text-align: right;\">\n",
       "      <th></th>\n",
       "      <th>R_low</th>\n",
       "      <th>R_high</th>\n",
       "      <th>_B_C_ratio</th>\n",
       "      <th>_stat</th>\n",
       "      <th>_acc</th>\n",
       "      <th>_unf</th>\n",
       "      <th>_scale</th>\n",
       "      <th>_sys</th>\n",
       "    </tr>\n",
       "  </thead>\n",
       "  <tbody>\n",
       "    <tr>\n",
       "      <th>62</th>\n",
       "      <td>441.0</td>\n",
       "      <td>525.0</td>\n",
       "      <td>0.0791</td>\n",
       "      <td>0.0055</td>\n",
       "      <td>0.0025</td>\n",
       "      <td>0.0025</td>\n",
       "      <td>0.0006</td>\n",
       "      <td>0.0036</td>\n",
       "    </tr>\n",
       "    <tr>\n",
       "      <th>63</th>\n",
       "      <td>525.0</td>\n",
       "      <td>660.0</td>\n",
       "      <td>0.0810</td>\n",
       "      <td>0.0058</td>\n",
       "      <td>0.0025</td>\n",
       "      <td>0.0031</td>\n",
       "      <td>0.0007</td>\n",
       "      <td>0.0041</td>\n",
       "    </tr>\n",
       "    <tr>\n",
       "      <th>64</th>\n",
       "      <td>660.0</td>\n",
       "      <td>880.0</td>\n",
       "      <td>0.0712</td>\n",
       "      <td>0.0060</td>\n",
       "      <td>0.0023</td>\n",
       "      <td>0.0036</td>\n",
       "      <td>0.0007</td>\n",
       "      <td>0.0044</td>\n",
       "    </tr>\n",
       "    <tr>\n",
       "      <th>65</th>\n",
       "      <td>880.0</td>\n",
       "      <td>1300.0</td>\n",
       "      <td>0.0733</td>\n",
       "      <td>0.0068</td>\n",
       "      <td>0.0023</td>\n",
       "      <td>0.0053</td>\n",
       "      <td>0.0007</td>\n",
       "      <td>0.0059</td>\n",
       "    </tr>\n",
       "    <tr>\n",
       "      <th>66</th>\n",
       "      <td>1300.0</td>\n",
       "      <td>3300.0</td>\n",
       "      <td>0.0446</td>\n",
       "      <td>0.0124</td>\n",
       "      <td>0.0021</td>\n",
       "      <td>0.0032</td>\n",
       "      <td>0.0005</td>\n",
       "      <td>0.0039</td>\n",
       "    </tr>\n",
       "  </tbody>\n",
       "</table>\n",
       "</div>"
      ],
      "text/plain": [
       "     R_low  R_high  _B_C_ratio   _stat    _acc    _unf  _scale    _sys\n",
       "62   441.0   525.0      0.0791  0.0055  0.0025  0.0025  0.0006  0.0036\n",
       "63   525.0   660.0      0.0810  0.0058  0.0025  0.0031  0.0007  0.0041\n",
       "64   660.0   880.0      0.0712  0.0060  0.0023  0.0036  0.0007  0.0044\n",
       "65   880.0  1300.0      0.0733  0.0068  0.0023  0.0053  0.0007  0.0059\n",
       "66  1300.0  3300.0      0.0446  0.0124  0.0021  0.0032  0.0005  0.0039"
      ]
     },
     "execution_count": 9,
     "metadata": {},
     "output_type": "execute_result"
    }
   ],
   "source": [
    "rigidity,rigidity_binsize,ratio,ratio_errors=make_energies_and_errors(df,numerator,denominator)\n",
    "rigidity[0]\n",
    "rigidity_binsize[0]\n",
    "ratio[0]\n",
    "df.tail()"
   ]
  },
  {
   "cell_type": "code",
   "execution_count": 30,
   "metadata": {},
   "outputs": [
    {
     "data": {
      "image/png": "[encoded data removed]",
      "text/plain": [
       "<Figure size 864x864 with 1 Axes>"
      ]
     },
     "metadata": {
      "needs_background": "light"
     },
     "output_type": "display_data"
    }
   ],
   "source": [
    "plt.figure(figsize=(12,12))\n",
    "model=5\n",
    "fnt=14\n",
    "x1=0.9*rigC13_spline[0]\n",
    "x2=2*rigC13_spline[-1]\n",
    "\n",
    "plt.plot(rigC13_spline, B_C_ratio_spline,'--',label=\"Ratio spline\")\n",
    "plt.errorbar(rigidity,ratio,xerr=rigidity_binsize,yerr=ratio_errors,fmt='o',label=\"AMS\")\n",
    "\n",
    "#plt.plot(energy,be_10_be_9_5,'-o',label=\"L=5\")\n",
    "plt.xscale(\"log\")\n",
    "plt.xlabel(\"Rigidity (GV)\",fontsize=fnt)\n",
    "plt.xticks(fontsize=fnt-4)\n",
    "plt.ylabel(\"Flux ratio\",fontsize=fnt)\n",
    "plt.yticks(fontsize=fnt-4)\n",
    "plt.xlim([x1,x2])\n",
    "plt.legend(loc='upper right')\n",
    "plt.title(\"Example, Boron and Carbon Ratio\", fontsize=fnt)\n",
    "plt.savefig(\"Boron_carbon_fluxratio_rigidity_splines.png\")\n",
    "plt.show()"
   ]
  },
  {
   "cell_type": "code",
   "execution_count": 24,
   "metadata": {},
   "outputs": [],
   "source": [
    "#now make functions to get residuals\n",
    "# to calculate residuals \n",
    "#find the elements of the spline energy array closest to the ams energy value:\n",
    "# for every data point so len(data_y)\n",
    "def calculate_chi_square(data_x,data_y,model_x,model_y):\n",
    "    i=0\n",
    "    closest_x_value=[]\n",
    "    closest_x_index=[]\n",
    "    residual=[]\n",
    "    expected_values=[]\n",
    "    while i<len(data_y):\n",
    "        array=model_x\n",
    "        value=data_x[i]\n",
    "        absolute_val_array = np.abs(array - value)\n",
    "        smallest_difference_index = absolute_val_array.argmin()\n",
    "        closest_x_value.append(array[smallest_difference_index])\n",
    "        closest_x_index.append(smallest_difference_index)\n",
    "        residual.append(data_y[i]-model_y[smallest_difference_index])\n",
    "        expected_values.append(model_y[smallest_difference_index])\n",
    "        i+=1\n",
    "    #with residuals and these values (indices) calculate the total chi_square\n",
    "    #make square residuals\n",
    "    sq_res=np.square(residual)\n",
    "    sq_res_div=np.true_divide(sq_res,expected_values)\n",
    "    return residual,np.sum(sq_res_div)"
   ]
  },
  {
   "cell_type": "code",
   "execution_count": 34,
   "metadata": {},
   "outputs": [],
   "source": [
    "from get_residuals_chi_square import *\n",
    "residuals,chi_square=calculate_chi_square(rigidity,ratio,rigC13_spline, B_C_ratio_spline)"
   ]
  },
  {
   "cell_type": "code",
   "execution_count": 35,
   "metadata": {},
   "outputs": [
    {
     "name": "stdout",
     "output_type": "stream",
     "text": [
      "1.6248284221335823\n"
     ]
    }
   ],
   "source": [
    "print(chi_square)"
   ]
  },
  {
   "cell_type": "code",
   "execution_count": null,
   "metadata": {},
   "outputs": [],
   "source": []
  }
 ],
 "metadata": {
  "kernelspec": {
   "display_name": "Python 3",
   "language": "python",
   "name": "python3"
  },
  "language_info": {
   "codemirror_mode": {
    "name": "ipython",
    "version": 3
   },
   "file_extension": ".py",
   "mimetype": "text/x-python",
   "name": "python",
   "nbconvert_exporter": "python",
   "pygments_lexer": "ipython3",
   "version": "3.7.6"
  }
 },
 "nbformat": 4,
 "nbformat_minor": 4
}
