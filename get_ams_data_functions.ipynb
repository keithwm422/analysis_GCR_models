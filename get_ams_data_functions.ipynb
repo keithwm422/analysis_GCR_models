{
 "cells": [
  {
   "cell_type": "code",
   "execution_count": null,
   "metadata": {},
   "outputs": [],
   "source": [
    "import numpy as np\n",
    "import pandas as pd\n",
    "# Set up matplotlib and use a nicer set of plot parameters\n",
    "import matplotlib\n",
    "#matplotlib.rc_file(\"../../templates/matplotlibrc\")\n",
    "import matplotlib.pyplot as plt\n",
    "matplotlib.rc('text', usetex=True)\n",
    "from scipy.interpolate import splev, splrep"
   ]
  },
  {
   "cell_type": "code",
   "execution_count": 1,
   "metadata": {},
   "outputs": [],
   "source": [
    "def make_energies_and_errors(df,num,den):\n",
    "    rigidity=np.array((df.R_low.values,df.R_high.values.T))\n",
    "    rigidity_mp=(rigidity[0,:]+rigidity[1,:])/2.0\n",
    "    rigidity_binsize=(rigidity[1,:]-rigidity[0,:])/2.0\n",
    "    ratio_name='_'+str(num)+'_'+str(den)+'_'+'ratio'\n",
    "    ratio=np.array(df[ratio_name].values)\n",
    "    ratio_sys_errors=np.array(df._sys.values)\n",
    "    ratio_stat_errors=np.array(df._stat.values)\n",
    "    ratio_errors=np.sqrt(np.square(ratio_stat_errors)+np.square(ratio_sys_errors))\n",
    "    return rigidity_mp,rigidity_binsize,ratio,ratio_errors"
   ]
  },
  {
   "cell_type": "code",
   "execution_count": 2,
   "metadata": {},
   "outputs": [],
   "source": [
    "def read_in_data(numerator,denominator,path):\n",
    "    extension='ams_data.csv'\n",
    "    read_file=path+numerator+'_'+denominator+'_'+extension\n",
    "    ams=pd.read_csv(read_file)\n",
    "    print(ams.head())\n",
    "    return ams"
   ]
  },
  {
   "cell_type": "code",
   "execution_count": 3,
   "metadata": {},
   "outputs": [],
   "source": [
    "def make_plot_of_data():\n",
    "    fnt=20\n",
    "    x1=rigidity[0]-0.1\n",
    "    x2=1.5*rigidity[-1]\n",
    "    #y1=ratio[0]\n",
    "    #y2=5*10**-1\n",
    "    plt.figure(figsize=(10,10))\n",
    "    plt.errorbar(rigidity,ratio,xerr=rigidity_binsize,yerr=ratio_errors,fmt='o',label=\"AMS\")\n",
    "    #plt.plot(energy,he_3_4_2,'-o',label=\"L=2\")\n",
    "    #plt.plot(energy,he_3_4_3,'-o',label=\"L=3\")\n",
    "    #plt.plot(energy,he_3_4_4,'-o',label=\"L=4\")\n",
    "    #plt.plot(energy,he_3_4_5,'-o',label=\"L=5\")\n",
    "    plt.xscale(\"log\")\n",
    "    plt.xlabel(\"Rigidity [GV]\",fontsize=fnt)\n",
    "    plt.xticks(fontsize=fnt-4)\n",
    "    plt.yscale(\"log\")\n",
    "    plt.ylabel(\"Flux division \"+numerator+\"/\"+denominator,fontsize=fnt)\n",
    "    plt.yticks(fontsize=fnt-4)\n",
    "    plt.xlim([x1,x2])\n",
    "    #plt.ylim([y1,y2])\n",
    "    #plt.legend(loc='lower right', fontsize=fnt-4)\n",
    "    plt.title(\"Example\", fontsize=fnt)\n",
    "    plt.savefig(numerator+\"_\"+denominator+\"_ams_data.png\")\n",
    "    plt.show()"
   ]
  },
  {
   "cell_type": "code",
   "execution_count": null,
   "metadata": {},
   "outputs": [],
   "source": [
    "def "
   ]
  }
 ],
 "metadata": {
  "kernelspec": {
   "display_name": "Python 3",
   "language": "python",
   "name": "python3"
  },
  "language_info": {
   "codemirror_mode": {
    "name": "ipython",
    "version": 3
   },
   "file_extension": ".py",
   "mimetype": "text/x-python",
   "name": "python",
   "nbconvert_exporter": "python",
   "pygments_lexer": "ipython3",
   "version": "3.7.6"
  }
 },
 "nbformat": 4,
 "nbformat_minor": 4
}
